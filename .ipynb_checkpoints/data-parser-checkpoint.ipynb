{
 "cells": [
  {
   "cell_type": "code",
   "execution_count": 17,
   "metadata": {},
   "outputs": [],
   "source": [
    "import pandas as pd \n",
    "from datetime import datetime "
   ]
  },
  {
   "cell_type": "code",
   "execution_count": 27,
   "metadata": {},
   "outputs": [],
   "source": [
    "df = pd.read_csv(\"../django-myproject-master/data.csv\")"
   ]
  },
  {
   "cell_type": "code",
   "execution_count": 28,
   "metadata": {},
   "outputs": [],
   "source": [
    "date = datetime.now().date().isoformat()"
   ]
  },
  {
   "cell_type": "code",
   "execution_count": 29,
   "metadata": {},
   "outputs": [
    {
     "name": "stdout",
     "output_type": "stream",
     "text": [
      "insert into acsd_knacklink(country_name, country_code, knack_link, insertion_date) values('AGO','Angola','https://acsd.knack.com/acsd#country-list/country-details3/5c8d33aeeb19477dc552123f/', 2020-04-30);\n",
      "insert into acsd_knacklink(country_name, country_code, knack_link, insertion_date) values('BDI','Burundi','https://acsd.knack.com/acsd#country-list/country-details3/5c8d33aeeb19477dc5521237/', 2020-04-30);\n",
      "insert into acsd_knacklink(country_name, country_code, knack_link, insertion_date) values('BEN','Benin','https://acsd.knack.com/acsd#country-list/country-details3/5c8d33aeeb19477dc552123d/', 2020-04-30);\n",
      "insert into acsd_knacklink(country_name, country_code, knack_link, insertion_date) values('BFA','Burkina Faso','https://acsd.knack.com/acsd#country-list/country-details3/5c8d33aeeb19477dc5521239/', 2020-04-30);\n",
      "insert into acsd_knacklink(country_name, country_code, knack_link, insertion_date) values('BWA','Botswana','https://acsd.knack.com/acsd#country-list/country-details3/5c8d33aeeb19477dc552123b/', 2020-04-30);\n",
      "insert into acsd_knacklink(country_name, country_code, knack_link, insertion_date) values('CAF','Central African Republic','https://acsd.knack.com/acsd#country-list/country-details3/5c8d33aeeb19477dc5521231/', 2020-04-30);\n",
      "insert into acsd_knacklink(country_name, country_code, knack_link, insertion_date) values('CIV','Ivory Coast','https://acsd.knack.com/acsd#country-list/country-details3/5c8d33aeeb19477dc5521211/', 2020-04-30);\n",
      "insert into acsd_knacklink(country_name, country_code, knack_link, insertion_date) values('TCD',' Chad', 'https://acsd.knack.com/acsd#country-list/country-details3/5c8d33aeeb19477dc552122f/', 2020-04-30);\n",
      "insert into acsd_knacklink(country_name, country_code, knack_link, insertion_date) values('CMR','Cameroon','https://acsd.knack.com/acsd#country-list/country-details3/5c8d33aeeb19477dc5521235/', 2020-04-30);\n",
      "insert into acsd_knacklink(country_name, country_code, knack_link, insertion_date) values('COD','Democratic Republic of the Congo','https://acsd.knack.com/acsd#country-list/country-details3/5c8d33aeeb19477dc5521229/', 2020-04-30);\n",
      "insert into acsd_knacklink(country_name, country_code, knack_link, insertion_date) values('COG','Republic of Congo','https://acsd.knack.com/acsd#country-list/country-details3/5c8d33aeeb19477dc552122b/', 2020-04-30);\n",
      "insert into acsd_knacklink(country_name, country_code, knack_link, insertion_date) values('COM','Comoros','https://acsd.knack.com/acsd#country-list/country-details3/5c8d33aeeb19477dc552122d/', 2020-04-30);\n",
      "insert into acsd_knacklink(country_name, country_code, knack_link, insertion_date) values('CPV','Cape Verde','https://acsd.knack.com/acsd#country-list/country-details3/5c8d33aeeb19477dc5521233/', 2020-04-30);\n",
      "insert into acsd_knacklink(country_name, country_code, knack_link, insertion_date) values('DJI','Djibouti','https://acsd.knack.com/acsd#country-list/country-details3/5c8d33aeeb19477dc5521227/', 2020-04-30);\n",
      "insert into acsd_knacklink(country_name, country_code, knack_link, insertion_date) values('DZA','Algeria','https://acsd.knack.com/acsd#country-list/country-details3/5c8d33aeeb19477dc5521241/', 2020-04-30);\n",
      "insert into acsd_knacklink(country_name, country_code, knack_link, insertion_date) values('EGY','Egypt','https://acsd.knack.com/acsd#country-list/country-details3/5c8d33aeeb19477dc5521225/', 2020-04-30);\n",
      "insert into acsd_knacklink(country_name, country_code, knack_link, insertion_date) values('ERI','Eritrea','https://acsd.knack.com/acsd#country-list/country-details3/5c8d33aeeb19477dc5521221/', 2020-04-30);\n",
      "insert into acsd_knacklink(country_name, country_code, knack_link, insertion_date) values('ETH','Ethiopia','https://acsd.knack.com/acsd#country-list/country-details3/5c8d33aeeb19477dc552121d/', 2020-04-30);\n",
      "insert into acsd_knacklink(country_name, country_code, knack_link, insertion_date) values('GAB','Gabon','https://acsd.knack.com/acsd#country-list/country-details3/5c8d33aeeb19477dc552121b/', 2020-04-30);\n",
      "insert into acsd_knacklink(country_name, country_code, knack_link, insertion_date) values('GHA','Ghana','https://acsd.knack.com/acsd#country-list/country-details3/5c8d33aeeb19477dc5521217/', 2020-04-30);\n",
      "insert into acsd_knacklink(country_name, country_code, knack_link, insertion_date) values('GIN','Guinea','https://acsd.knack.com/acsd#country-list/country-details3/5c8d33aeeb19477dc5521215/', 2020-04-30);\n",
      "insert into acsd_knacklink(country_name, country_code, knack_link, insertion_date) values('GMB','Gambia','https://acsd.knack.com/acsd#country-list/country-details3/5c8d33aeeb19477dc5521219/', 2020-04-30);\n",
      "insert into acsd_knacklink(country_name, country_code, knack_link, insertion_date) values('GNB','Guinea Bissau','https://acsd.knack.com/acsd#country-list/country-details3/5c8d33aeeb19477dc5521213/', 2020-04-30);\n",
      "insert into acsd_knacklink(country_name, country_code, knack_link, insertion_date) values('GNQ','Equatorial Guinea','https://acsd.knack.com/acsd#country-list/country-details3/5c8d33aeeb19477dc5521223/', 2020-04-30);\n",
      "insert into acsd_knacklink(country_name, country_code, knack_link, insertion_date) values('KEN','Kenya','https://acsd.knack.com/acsd#country-list/country-details3/5c8d33aeeb19477dc552120f/', 2020-04-30);\n",
      "insert into acsd_knacklink(country_name, country_code, knack_link, insertion_date) values('LBR','Liberia','https://acsd.knack.com/acsd#country-list/country-details3/5c8d33aeeb19477dc552120b/', 2020-04-30);\n",
      "insert into acsd_knacklink(country_name, country_code, knack_link, insertion_date) values('LBY','Libya','https://acsd.knack.com/acsd#country-list/country-details3/5c8d33aeeb19477dc5521209/', 2020-04-30);\n",
      "insert into acsd_knacklink(country_name, country_code, knack_link, insertion_date) values('LSO','Lesotho','https://acsd.knack.com/acsd#country-list/country-details3/5c8d33aeeb19477dc552120d/', 2020-04-30);\n",
      "insert into acsd_knacklink(country_name, country_code, knack_link, insertion_date) values('MAR','Morocco','https://acsd.knack.com/acsd#country-list/country-details3/5c8d33aeeb19477dc55211fd/', 2020-04-30);\n",
      "insert into acsd_knacklink(country_name, country_code, knack_link, insertion_date) values('MDG','Madagascar','https://acsd.knack.com/acsd#country-list/country-details3/5c8d33aeeb19477dc5521207/', 2020-04-30);\n",
      "insert into acsd_knacklink(country_name, country_code, knack_link, insertion_date) values('MLI','Mali','https://acsd.knack.com/acsd#country-list/country-details3/5c8d33aeeb19477dc5521203/', 2020-04-30);\n",
      "insert into acsd_knacklink(country_name, country_code, knack_link, insertion_date) values('MOZ','Mozambique','https://acsd.knack.com/acsd#country-list/country-details3/5c8d33aeeb19477dc55211fb/', 2020-04-30);\n",
      "insert into acsd_knacklink(country_name, country_code, knack_link, insertion_date) values('MRT','Mauritania','https://acsd.knack.com/acsd#country-list/country-details3/5c8d33aeeb19477dc5521201/', 2020-04-30);\n",
      "insert into acsd_knacklink(country_name, country_code, knack_link, insertion_date) values('MWI','Malawi','https://acsd.knack.com/acsd#country-list/country-details3/5c8d33aeeb19477dc5521205/', 2020-04-30);\n",
      "insert into acsd_knacklink(country_name, country_code, knack_link, insertion_date) values('MAU',' Mauritius', 'https://acsd.knack.com/acsd#country-list/country-details3/5c8d33aeeb19477dc55211ff/', 2020-04-30);\n",
      "insert into acsd_knacklink(country_name, country_code, knack_link, insertion_date) values('NAM','Namibia','https://acsd.knack.com/acsd#country-list/country-details3/5c8d33aeeb19477dc55211f9', 2020-04-30);\n",
      "insert into acsd_knacklink(country_name, country_code, knack_link, insertion_date) values('NER','Niger','https://acsd.knack.com/acsd#country-list/country-details3/5c8d33aeeb19477dc55211f7/', 2020-04-30);\n",
      "insert into acsd_knacklink(country_name, country_code, knack_link, insertion_date) values('NGA','Nigeria','https://acsd.knack.com/acsd#country-list/country-details3/5c8d33aeeb19477dc55211f5/', 2020-04-30);\n",
      "insert into acsd_knacklink(country_name, country_code, knack_link, insertion_date) values('RWA','Rwanda','https://acsd.knack.com/acsd#country-list/country-details3/5c8d33aeeb19477dc55211f3/', 2020-04-30);\n",
      "insert into acsd_knacklink(country_name, country_code, knack_link, insertion_date) values('SDN','Sudan','https://acsd.knack.com/acsd#country-list/country-details3/5c8d33aeeb19477dc55211e3/', 2020-04-30);\n",
      "insert into acsd_knacklink(country_name, country_code, knack_link, insertion_date) values('SEN','Senegal','https://acsd.knack.com/acsd#country-list/country-details3/5c8d33aeeb19477dc55211ef/', 2020-04-30);\n",
      "insert into acsd_knacklink(country_name, country_code, knack_link, insertion_date) values('SLE','Sierra Leone','https://acsd.knack.com/acsd#country-list/country-details3/5c8d33aeeb19477dc55211eb/', 2020-04-30);\n",
      "insert into acsd_knacklink(country_name, country_code, knack_link, insertion_date) values('SEY','Seychelles','https://acsd.knack.com/acsd#country-list/country-details3/5c8d33aeeb19477dc55211ed/', 2020-04-30);\n",
      "insert into acsd_knacklink(country_name, country_code, knack_link, insertion_date) values('SOM','Somalia','https://acsd.knack.com/acsd#country-list/country-details3/5c8d33aeeb19477dc55211e9/', 2020-04-30);\n",
      "insert into acsd_knacklink(country_name, country_code, knack_link, insertion_date) values('SSD','South Sudan','https://acsd.knack.com/acsd#country-list/country-details3/5c8d33aeeb19477dc55211e5/', 2020-04-30);\n",
      "insert into acsd_knacklink(country_name, country_code, knack_link, insertion_date) values('STP','Sao Tome and Principe','https://acsd.knack.com/acsd#country-list/country-details3/5c8d33aeeb19477dc55211f1/', 2020-04-30);\n",
      "insert into acsd_knacklink(country_name, country_code, knack_link, insertion_date) values('SWZ','Swaziland','https://acsd.knack.com/acsd#country-list/country-details3/5c8d33aeeb19477dc552121f/', 2020-04-30);\n",
      "insert into acsd_knacklink(country_name, country_code, knack_link, insertion_date) values('TGO','Togo','https://acsd.knack.com/acsd#country-list/country-details3/5c8d33aeeb19477dc55211df/', 2020-04-30);\n",
      "insert into acsd_knacklink(country_name, country_code, knack_link, insertion_date) values('TUN','Tunisia','https://acsd.knack.com/acsd#country-list/country-details3/5c8d33aeeb19477dc55211dd/', 2020-04-30);\n",
      "insert into acsd_knacklink(country_name, country_code, knack_link, insertion_date) values('TZA','Tanzania','https://acsd.knack.com/acsd#country-list/country-details3/5c8d33aeeb19477dc55211e1/', 2020-04-30);\n",
      "insert into acsd_knacklink(country_name, country_code, knack_link, insertion_date) values('UGA','Uganda','https://acsd.knack.com/acsd#country-list/country-details3/5c8d33aeeb19477dc55211db/', 2020-04-30);\n",
      "insert into acsd_knacklink(country_name, country_code, knack_link, insertion_date) values('ZAF','South Africa','https://acsd.knack.com/acsd#country-list/country-details3/5c8d33aeeb19477dc55211e7/', 2020-04-30);\n",
      "insert into acsd_knacklink(country_name, country_code, knack_link, insertion_date) values('ZMB','Zambia','https://acsd.knack.com/acsd#country-list/country-details3/5c8d33aeeb19477dc55211d9/', 2020-04-30);\n",
      "insert into acsd_knacklink(country_name, country_code, knack_link, insertion_date) values('ZWE','Zimbabwe','https://acsd.knack.com/acsd#country-list/country-details3/5c8d33aeeb19477dc55211d7/', 2020-04-30);\n"
     ]
    }
   ],
   "source": [
    "for index, rows in df.iterrows():\n",
    "    print(\"insert into acsd_knacklink(country_name, country_code, knack_link, insertion_date) values('%s','%s',%s, '%s');\" % (rows.a,rows.b, rows.c, date))\n",
    "\n"
   ]
  },
  {
   "cell_type": "code",
   "execution_count": null,
   "metadata": {},
   "outputs": [],
   "source": []
  }
 ],
 "metadata": {
  "kernelspec": {
   "display_name": "Python 3",
   "language": "python",
   "name": "python3"
  },
  "language_info": {
   "codemirror_mode": {
    "name": "ipython",
    "version": 3
   },
   "file_extension": ".py",
   "mimetype": "text/x-python",
   "name": "python",
   "nbconvert_exporter": "python",
   "pygments_lexer": "ipython3",
   "version": "3.6.8"
  }
 },
 "nbformat": 4,
 "nbformat_minor": 2
}
