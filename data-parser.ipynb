{
 "cells": [
  {
   "cell_type": "code",
   "execution_count": 17,
   "metadata": {},
   "outputs": [],
   "source": [
    "import pandas as pd \n",
    "from datetime import datetime "
   ]
  },
  {
   "cell_type": "code",
   "execution_count": 27,
   "metadata": {},
   "outputs": [],
   "source": [
    "df = pd.read_csv(\"../django-myproject-master/data.csv\")"
   ]
  },
  {
   "cell_type": "code",
   "execution_count": 30,
   "metadata": {},
   "outputs": [],
   "source": [
    "date = datetime.now().date().isoformat()"
   ]
  },
  {
   "cell_type": "code",
   "execution_count": 32,
   "metadata": {},
   "outputs": [
    {
     "name": "stdout",
     "output_type": "stream",
     "text": [
      "insert into acsd_knacklink(country_name, country_code, knack_link, insertion_date) values('Angola','AGO','https://acsd.knack.com/acsd#country-list/country-details3/5c8d33aeeb19477dc552123f/', '2020-04-30');\n",
      "insert into acsd_knacklink(country_name, country_code, knack_link, insertion_date) values('Burundi','BDI','https://acsd.knack.com/acsd#country-list/country-details3/5c8d33aeeb19477dc5521237/', '2020-04-30');\n",
      "insert into acsd_knacklink(country_name, country_code, knack_link, insertion_date) values('Benin','BEN','https://acsd.knack.com/acsd#country-list/country-details3/5c8d33aeeb19477dc552123d/', '2020-04-30');\n",
      "insert into acsd_knacklink(country_name, country_code, knack_link, insertion_date) values('Burkina Faso','BFA','https://acsd.knack.com/acsd#country-list/country-details3/5c8d33aeeb19477dc5521239/', '2020-04-30');\n",
      "insert into acsd_knacklink(country_name, country_code, knack_link, insertion_date) values('Botswana','BWA','https://acsd.knack.com/acsd#country-list/country-details3/5c8d33aeeb19477dc552123b/', '2020-04-30');\n",
      "insert into acsd_knacklink(country_name, country_code, knack_link, insertion_date) values('Central African Republic','CAF','https://acsd.knack.com/acsd#country-list/country-details3/5c8d33aeeb19477dc5521231/', '2020-04-30');\n",
      "insert into acsd_knacklink(country_name, country_code, knack_link, insertion_date) values('Ivory Coast','CIV','https://acsd.knack.com/acsd#country-list/country-details3/5c8d33aeeb19477dc5521211/', '2020-04-30');\n",
      "insert into acsd_knacklink(country_name, country_code, knack_link, insertion_date) values(' Chad','TCD', 'https://acsd.knack.com/acsd#country-list/country-details3/5c8d33aeeb19477dc552122f/', '2020-04-30');\n",
      "insert into acsd_knacklink(country_name, country_code, knack_link, insertion_date) values('Cameroon','CMR','https://acsd.knack.com/acsd#country-list/country-details3/5c8d33aeeb19477dc5521235/', '2020-04-30');\n",
      "insert into acsd_knacklink(country_name, country_code, knack_link, insertion_date) values('Democratic Republic of the Congo','COD','https://acsd.knack.com/acsd#country-list/country-details3/5c8d33aeeb19477dc5521229/', '2020-04-30');\n",
      "insert into acsd_knacklink(country_name, country_code, knack_link, insertion_date) values('Republic of Congo','COG','https://acsd.knack.com/acsd#country-list/country-details3/5c8d33aeeb19477dc552122b/', '2020-04-30');\n",
      "insert into acsd_knacklink(country_name, country_code, knack_link, insertion_date) values('Comoros','COM','https://acsd.knack.com/acsd#country-list/country-details3/5c8d33aeeb19477dc552122d/', '2020-04-30');\n",
      "insert into acsd_knacklink(country_name, country_code, knack_link, insertion_date) values('Cape Verde','CPV','https://acsd.knack.com/acsd#country-list/country-details3/5c8d33aeeb19477dc5521233/', '2020-04-30');\n",
      "insert into acsd_knacklink(country_name, country_code, knack_link, insertion_date) values('Djibouti','DJI','https://acsd.knack.com/acsd#country-list/country-details3/5c8d33aeeb19477dc5521227/', '2020-04-30');\n",
      "insert into acsd_knacklink(country_name, country_code, knack_link, insertion_date) values('Algeria','DZA','https://acsd.knack.com/acsd#country-list/country-details3/5c8d33aeeb19477dc5521241/', '2020-04-30');\n",
      "insert into acsd_knacklink(country_name, country_code, knack_link, insertion_date) values('Egypt','EGY','https://acsd.knack.com/acsd#country-list/country-details3/5c8d33aeeb19477dc5521225/', '2020-04-30');\n",
      "insert into acsd_knacklink(country_name, country_code, knack_link, insertion_date) values('Eritrea','ERI','https://acsd.knack.com/acsd#country-list/country-details3/5c8d33aeeb19477dc5521221/', '2020-04-30');\n",
      "insert into acsd_knacklink(country_name, country_code, knack_link, insertion_date) values('Ethiopia','ETH','https://acsd.knack.com/acsd#country-list/country-details3/5c8d33aeeb19477dc552121d/', '2020-04-30');\n",
      "insert into acsd_knacklink(country_name, country_code, knack_link, insertion_date) values('Gabon','GAB','https://acsd.knack.com/acsd#country-list/country-details3/5c8d33aeeb19477dc552121b/', '2020-04-30');\n",
      "insert into acsd_knacklink(country_name, country_code, knack_link, insertion_date) values('Ghana','GHA','https://acsd.knack.com/acsd#country-list/country-details3/5c8d33aeeb19477dc5521217/', '2020-04-30');\n",
      "insert into acsd_knacklink(country_name, country_code, knack_link, insertion_date) values('Guinea','GIN','https://acsd.knack.com/acsd#country-list/country-details3/5c8d33aeeb19477dc5521215/', '2020-04-30');\n",
      "insert into acsd_knacklink(country_name, country_code, knack_link, insertion_date) values('Gambia','GMB','https://acsd.knack.com/acsd#country-list/country-details3/5c8d33aeeb19477dc5521219/', '2020-04-30');\n",
      "insert into acsd_knacklink(country_name, country_code, knack_link, insertion_date) values('Guinea Bissau','GNB','https://acsd.knack.com/acsd#country-list/country-details3/5c8d33aeeb19477dc5521213/', '2020-04-30');\n",
      "insert into acsd_knacklink(country_name, country_code, knack_link, insertion_date) values('Equatorial Guinea','GNQ','https://acsd.knack.com/acsd#country-list/country-details3/5c8d33aeeb19477dc5521223/', '2020-04-30');\n",
      "insert into acsd_knacklink(country_name, country_code, knack_link, insertion_date) values('Kenya','KEN','https://acsd.knack.com/acsd#country-list/country-details3/5c8d33aeeb19477dc552120f/', '2020-04-30');\n",
      "insert into acsd_knacklink(country_name, country_code, knack_link, insertion_date) values('Liberia','LBR','https://acsd.knack.com/acsd#country-list/country-details3/5c8d33aeeb19477dc552120b/', '2020-04-30');\n",
      "insert into acsd_knacklink(country_name, country_code, knack_link, insertion_date) values('Libya','LBY','https://acsd.knack.com/acsd#country-list/country-details3/5c8d33aeeb19477dc5521209/', '2020-04-30');\n",
      "insert into acsd_knacklink(country_name, country_code, knack_link, insertion_date) values('Lesotho','LSO','https://acsd.knack.com/acsd#country-list/country-details3/5c8d33aeeb19477dc552120d/', '2020-04-30');\n",
      "insert into acsd_knacklink(country_name, country_code, knack_link, insertion_date) values('Morocco','MAR','https://acsd.knack.com/acsd#country-list/country-details3/5c8d33aeeb19477dc55211fd/', '2020-04-30');\n",
      "insert into acsd_knacklink(country_name, country_code, knack_link, insertion_date) values('Madagascar','MDG','https://acsd.knack.com/acsd#country-list/country-details3/5c8d33aeeb19477dc5521207/', '2020-04-30');\n",
      "insert into acsd_knacklink(country_name, country_code, knack_link, insertion_date) values('Mali','MLI','https://acsd.knack.com/acsd#country-list/country-details3/5c8d33aeeb19477dc5521203/', '2020-04-30');\n",
      "insert into acsd_knacklink(country_name, country_code, knack_link, insertion_date) values('Mozambique','MOZ','https://acsd.knack.com/acsd#country-list/country-details3/5c8d33aeeb19477dc55211fb/', '2020-04-30');\n",
      "insert into acsd_knacklink(country_name, country_code, knack_link, insertion_date) values('Mauritania','MRT','https://acsd.knack.com/acsd#country-list/country-details3/5c8d33aeeb19477dc5521201/', '2020-04-30');\n",
      "insert into acsd_knacklink(country_name, country_code, knack_link, insertion_date) values('Malawi','MWI','https://acsd.knack.com/acsd#country-list/country-details3/5c8d33aeeb19477dc5521205/', '2020-04-30');\n",
      "insert into acsd_knacklink(country_name, country_code, knack_link, insertion_date) values(' Mauritius','MAU', 'https://acsd.knack.com/acsd#country-list/country-details3/5c8d33aeeb19477dc55211ff/', '2020-04-30');\n",
      "insert into acsd_knacklink(country_name, country_code, knack_link, insertion_date) values('Namibia','NAM','https://acsd.knack.com/acsd#country-list/country-details3/5c8d33aeeb19477dc55211f9', '2020-04-30');\n",
      "insert into acsd_knacklink(country_name, country_code, knack_link, insertion_date) values('Niger','NER','https://acsd.knack.com/acsd#country-list/country-details3/5c8d33aeeb19477dc55211f7/', '2020-04-30');\n",
      "insert into acsd_knacklink(country_name, country_code, knack_link, insertion_date) values('Nigeria','NGA','https://acsd.knack.com/acsd#country-list/country-details3/5c8d33aeeb19477dc55211f5/', '2020-04-30');\n",
      "insert into acsd_knacklink(country_name, country_code, knack_link, insertion_date) values('Rwanda','RWA','https://acsd.knack.com/acsd#country-list/country-details3/5c8d33aeeb19477dc55211f3/', '2020-04-30');\n",
      "insert into acsd_knacklink(country_name, country_code, knack_link, insertion_date) values('Sudan','SDN','https://acsd.knack.com/acsd#country-list/country-details3/5c8d33aeeb19477dc55211e3/', '2020-04-30');\n",
      "insert into acsd_knacklink(country_name, country_code, knack_link, insertion_date) values('Senegal','SEN','https://acsd.knack.com/acsd#country-list/country-details3/5c8d33aeeb19477dc55211ef/', '2020-04-30');\n",
      "insert into acsd_knacklink(country_name, country_code, knack_link, insertion_date) values('Sierra Leone','SLE','https://acsd.knack.com/acsd#country-list/country-details3/5c8d33aeeb19477dc55211eb/', '2020-04-30');\n",
      "insert into acsd_knacklink(country_name, country_code, knack_link, insertion_date) values('Seychelles','SEY','https://acsd.knack.com/acsd#country-list/country-details3/5c8d33aeeb19477dc55211ed/', '2020-04-30');\n",
      "insert into acsd_knacklink(country_name, country_code, knack_link, insertion_date) values('Somalia','SOM','https://acsd.knack.com/acsd#country-list/country-details3/5c8d33aeeb19477dc55211e9/', '2020-04-30');\n",
      "insert into acsd_knacklink(country_name, country_code, knack_link, insertion_date) values('South Sudan','SSD','https://acsd.knack.com/acsd#country-list/country-details3/5c8d33aeeb19477dc55211e5/', '2020-04-30');\n",
      "insert into acsd_knacklink(country_name, country_code, knack_link, insertion_date) values('Sao Tome and Principe','STP','https://acsd.knack.com/acsd#country-list/country-details3/5c8d33aeeb19477dc55211f1/', '2020-04-30');\n",
      "insert into acsd_knacklink(country_name, country_code, knack_link, insertion_date) values('Swaziland','SWZ','https://acsd.knack.com/acsd#country-list/country-details3/5c8d33aeeb19477dc552121f/', '2020-04-30');\n",
      "insert into acsd_knacklink(country_name, country_code, knack_link, insertion_date) values('Togo','TGO','https://acsd.knack.com/acsd#country-list/country-details3/5c8d33aeeb19477dc55211df/', '2020-04-30');\n",
      "insert into acsd_knacklink(country_name, country_code, knack_link, insertion_date) values('Tunisia','TUN','https://acsd.knack.com/acsd#country-list/country-details3/5c8d33aeeb19477dc55211dd/', '2020-04-30');\n",
      "insert into acsd_knacklink(country_name, country_code, knack_link, insertion_date) values('Tanzania','TZA','https://acsd.knack.com/acsd#country-list/country-details3/5c8d33aeeb19477dc55211e1/', '2020-04-30');\n",
      "insert into acsd_knacklink(country_name, country_code, knack_link, insertion_date) values('Uganda','UGA','https://acsd.knack.com/acsd#country-list/country-details3/5c8d33aeeb19477dc55211db/', '2020-04-30');\n",
      "insert into acsd_knacklink(country_name, country_code, knack_link, insertion_date) values('South Africa','ZAF','https://acsd.knack.com/acsd#country-list/country-details3/5c8d33aeeb19477dc55211e7/', '2020-04-30');\n",
      "insert into acsd_knacklink(country_name, country_code, knack_link, insertion_date) values('Zambia','ZMB','https://acsd.knack.com/acsd#country-list/country-details3/5c8d33aeeb19477dc55211d9/', '2020-04-30');\n",
      "insert into acsd_knacklink(country_name, country_code, knack_link, insertion_date) values('Zimbabwe','ZWE','https://acsd.knack.com/acsd#country-list/country-details3/5c8d33aeeb19477dc55211d7/', '2020-04-30');\n"
     ]
    }
   ],
   "source": [
    "for index, rows in df.iterrows():\n",
    "    print(\"insert into acsd_knacklink(country_name, country_code, knack_link, insertion_date) values('%s','%s',%s, '%s');\" % (rows.b,rows.a, rows.c, date))\n",
    "\n"
   ]
  },
  {
   "cell_type": "code",
   "execution_count": null,
   "metadata": {},
   "outputs": [],
   "source": []
  }
 ],
 "metadata": {
  "kernelspec": {
   "display_name": "Python 3",
   "language": "python",
   "name": "python3"
  },
  "language_info": {
   "codemirror_mode": {
    "name": "ipython",
    "version": 3
   },
   "file_extension": ".py",
   "mimetype": "text/x-python",
   "name": "python",
   "nbconvert_exporter": "python",
   "pygments_lexer": "ipython3",
   "version": "3.6.8"
  }
 },
 "nbformat": 4,
 "nbformat_minor": 2
}
